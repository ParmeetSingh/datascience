{
 "cells": [
  {
   "cell_type": "code",
   "execution_count": 3,
   "metadata": {
    "collapsed": true
   },
   "outputs": [],
   "source": [
    "import numpy as np\n",
    "import theano\n",
    "import string\n",
    "import matplotlib.pyplot as plt\n",
    "%matplotlib inline\n",
    "from sklearn.utils import shuffle\n",
    "import os\n",
    "from os import path"
   ]
  },
  {
   "cell_type": "code",
   "execution_count": 4,
   "metadata": {
    "collapsed": true
   },
   "outputs": [],
   "source": [
    "import theano.tensor as T\n",
    "from brown import get_sentences_with_word2idx_limit_vocab"
   ]
  },
  {
   "cell_type": "code",
   "execution_count": 10,
   "metadata": {},
   "outputs": [],
   "source": [
    "def sigmoid(x):\n",
    "    return 1/(1+np.exp(-1*x))\n",
    "class SkipGram():\n",
    "    def __init__(self,V,D,context_sz):\n",
    "        #vocab sz\n",
    "        self.V = V\n",
    "        #embedding sz\n",
    "        self.D = D\n",
    "        self.context_sz  = context_sz\n",
    "    def init_weight(self,Wi,Wo):\n",
    "        return np.random.randn(Wi,Wo)\n",
    "    def get_pnw(self,X):\n",
    "        word_counts = {}\n",
    "        total_count = sum([len(x) for x in X])\n",
    "        for x in X:\n",
    "            for word in x:\n",
    "                if word not in word_counts:\n",
    "                    word_counts[word] = 0\n",
    "                word_counts[word] += 1\n",
    "        pnw = np.zeros(self.V)\n",
    "        for i in xrange(2,self.V):\n",
    "            pnw[i] = (word_counts[words]/total_count)**0.75\n",
    "        return pnw\n",
    "    def get_negative_samples(self,context,num_negative_samples):\n",
    "        saved = {}\n",
    "        for word in context:\n",
    "            saved[word] = pnw[word]\n",
    "            pnw[word]=0\n",
    "        negative_samples = np.random.choice(\n",
    "                    a=np.arange(self.V),\n",
    "                    size=num_negative_samples,\n",
    "                    replace=False,\n",
    "                    p=pnw/np.sum(self.pnw)\n",
    "        )\n",
    "        for key,val in saved.iteritems():\n",
    "            pnw[key] = val\n",
    "        return negative_samples\n",
    "    def fit(self,X,alpha=1e-5,mu=0.99,epochs=10,num_negative_samples=5,reg=0.99):\n",
    "        #number of sentences\n",
    "        N = len(X)\n",
    "        V = self.V\n",
    "        D = self.D\n",
    "        context_sz = self.context_sz\n",
    "        self.get_pnw(X)\n",
    "        \n",
    "        w1 = self.init_weight(V,D)\n",
    "        w2 = self.init_weight(D,V)\n",
    "        \n",
    "        dw1 = np.zeros(V,D)\n",
    "        dw2 = np.zeros(D,V)\n",
    "        \n",
    "        cost_per_epoch = {}\n",
    "        \n",
    "        for i in xrange(epochs):\n",
    "            shuffled_sentences = shuffle(np.arange(N))\n",
    "            epoch_cost = 0\n",
    "            for j in shuffled_sentences:\n",
    "                x = X[j] # one sentence\n",
    "                \n",
    "                #if length of the sentence is too small\n",
    "                if len(x)<(2*context_sz+1):\n",
    "                    continue\n",
    "                    \n",
    "                #choose random word from the sentence\n",
    "                jj = np.random.choice(len(x))\n",
    "                \n",
    "                start = max(0,jj-context_sz)\n",
    "                end = min(len(x),jj+context_sz+1)\n",
    "                \n",
    "                context = np.concatenate(x[start:jj],x[jj:end])\n",
    "                context = np.array(set(context))\n",
    "                \n",
    "                negative_samples = get_negative_samples(context,num_negative_samples)\n",
    "                \n",
    "                h = w1[jj]\n",
    "                \n",
    "                #postive error\n",
    "                posA = h.dot(w2[:,context])\n",
    "                pos_pY = sigmoid(posA) \n",
    "                \n",
    "                #negative eror\n",
    "                negA = h.dot(w2[:,negative_samples])\n",
    "                neg_pY = sigmoid(-1*negA)\n",
    "                                 \n",
    "                #cost calculation\n",
    "                cost = -np.log(pos_err).sum() - np.log(neg_err).sum()\n",
    "                epoch_cost += 1.0*cost/(len(context) + num_negative_samples)\n",
    "                #gradient calculation                  \n",
    "                \n",
    "                #w2 gradient calculation\n",
    "                pos_err = pos_pY - 1 \n",
    "                w2[:,context] += mu*dw1[:,context] - alpha(np.outer(pos_err,h) + reg*w1[:,context])\n",
    "                dw2[:,context] = np.outer(pos_err,h) + reg*w1[:,context]\n",
    "                \n",
    "                neg_err = 1 - neg_pY\n",
    "                w2[:,negative_samples]  += mu*dw2[:,negative_samples] - alpha(np.outer(neg_err,h) + reg*w2[:,negative_samples])\n",
    "                dw2[:,negative_samples] = np.outer(neg_err,h) + reg*w2[:,negative_samples]\n",
    "                \n",
    "                #w1 gradient calculation\n",
    "                grad_w1_jj = np.dot(pos_err,np.transpose(w2[:,context]))\n",
    "                                    + np.dot(neg_err,np.transpose(w2,:,negative_samples))\n",
    "                w1[jj,:] += mu*dw1[jj,:] - alpha*(grad_w1_jj + reg*dw1[jj,:])\n",
    "                dw1[jj,:] = grad_w1_jj + reg*dw1[jj,:]\n",
    "                                                               \n",
    "                \n",
    "                \n",
    "                                  "
   ]
  },
  {
   "cell_type": "code",
   "execution_count": 2,
   "metadata": {},
   "outputs": [
    {
     "ename": "NameError",
     "evalue": "name 'get_sentences_with_word2idx_limit_vocab' is not defined",
     "output_type": "error",
     "traceback": [
      "\u001b[0;31m---------------------------------------------------------------------------\u001b[0m",
      "\u001b[0;31mNameError\u001b[0m                                 Traceback (most recent call last)",
      "\u001b[0;32m<ipython-input-2-fbfbab10a3f9>\u001b[0m in \u001b[0;36m<module>\u001b[0;34m()\u001b[0m\n\u001b[1;32m      1\u001b[0m \u001b[0;31m#def main():\u001b[0m\u001b[0;34m\u001b[0m\u001b[0;34m\u001b[0m\u001b[0m\n\u001b[0;32m----> 2\u001b[0;31m \u001b[0msentences\u001b[0m\u001b[0;34m,\u001b[0m\u001b[0mword2idx\u001b[0m \u001b[0;34m=\u001b[0m \u001b[0mget_sentences_with_word2idx_limit_vocab\u001b[0m\u001b[0;34m(\u001b[0m\u001b[0mn_vocab\u001b[0m\u001b[0;34m=\u001b[0m\u001b[0;36m1000\u001b[0m\u001b[0;34m)\u001b[0m\u001b[0;34m\u001b[0m\u001b[0m\n\u001b[0m\u001b[1;32m      3\u001b[0m \u001b[0;32mprint\u001b[0m \u001b[0mlen\u001b[0m\u001b[0;34m(\u001b[0m\u001b[0msentences\u001b[0m\u001b[0;34m)\u001b[0m\u001b[0;34m,\u001b[0m\u001b[0mlen\u001b[0m\u001b[0;34m(\u001b[0m\u001b[0mword2idx\u001b[0m\u001b[0;34m)\u001b[0m\u001b[0;34m\u001b[0m\u001b[0m\n",
      "\u001b[0;31mNameError\u001b[0m: name 'get_sentences_with_word2idx_limit_vocab' is not defined"
     ]
    }
   ],
   "source": [
    "#def main():\n",
    "sentences,word2idx = get_sentences_with_word2idx_limit_vocab(n_vocab=1000)\n",
    "print len(sentences),len(word2idx)"
   ]
  },
  {
   "cell_type": "code",
   "execution_count": 25,
   "metadata": {},
   "outputs": [],
   "source": [
    "lists = np.array([12,12,2,1])"
   ]
  },
  {
   "cell_type": "code",
   "execution_count": 34,
   "metadata": {},
   "outputs": [
    {
     "data": {
      "text/plain": [
       "array(set([1, 2, 12]), dtype=object)"
      ]
     },
     "execution_count": 34,
     "metadata": {},
     "output_type": "execute_result"
    }
   ],
   "source": [
    "np.array(set(lists))"
   ]
  },
  {
   "cell_type": "code",
   "execution_count": 17,
   "metadata": {},
   "outputs": [
    {
     "ename": "TypeError",
     "evalue": "'list' object is not callable",
     "output_type": "error",
     "traceback": [
      "\u001b[0;31m---------------------------------------------------------------------------\u001b[0m",
      "\u001b[0;31mTypeError\u001b[0m                                 Traceback (most recent call last)",
      "\u001b[0;32m<ipython-input-17-1c092c4f9ce7>\u001b[0m in \u001b[0;36m<module>\u001b[0;34m()\u001b[0m\n\u001b[0;32m----> 1\u001b[0;31m \u001b[0mlist\u001b[0m\u001b[0;34m(\u001b[0m\u001b[0mset\u001b[0m\u001b[0;34m(\u001b[0m\u001b[0mlists\u001b[0m\u001b[0;34m)\u001b[0m\u001b[0;34m)\u001b[0m\u001b[0;34m\u001b[0m\u001b[0m\n\u001b[0m",
      "\u001b[0;31mTypeError\u001b[0m: 'list' object is not callable"
     ]
    }
   ],
   "source": []
  },
  {
   "cell_type": "code",
   "execution_count": null,
   "metadata": {
    "collapsed": true
   },
   "outputs": [],
   "source": []
  }
 ],
 "metadata": {
  "kernelspec": {
   "display_name": "Python 2",
   "language": "python",
   "name": "python2"
  },
  "language_info": {
   "codemirror_mode": {
    "name": "ipython",
    "version": 2
   },
   "file_extension": ".py",
   "mimetype": "text/x-python",
   "name": "python",
   "nbconvert_exporter": "python",
   "pygments_lexer": "ipython2",
   "version": "2.7.13"
  }
 },
 "nbformat": 4,
 "nbformat_minor": 2
}
