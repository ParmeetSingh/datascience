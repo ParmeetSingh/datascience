{
 "cells": [
  {
   "cell_type": "code",
   "execution_count": null,
   "metadata": {
    "collapsed": true
   },
   "outputs": [],
   "source": [
    "import numpy as np\n",
    "import matplotlib.pyplot as plt\n",
    "%matplotlib inline"
   ]
  },
  {
   "cell_type": "markdown",
   "metadata": {},
   "source": [
    "NClass = 500"
   ]
  },
  {
   "cell_type": "code",
   "execution_count": null,
   "metadata": {
    "collapsed": false
   },
   "outputs": [],
   "source": [
    "def W2_derivative(T,Y,Z):\n",
    "    M = Z.shape[1]\n",
    "    N,K = T.shape \n",
    "    \n",
    "    #deltaW2 = np.zeros((M,K)) \n",
    "    \n",
    "    #for n in xrange(N):\n",
    "    #   for m in xrange(M):\n",
    "    #        for k in xrange(K):\n",
    "    #            deltaW2[m,k] += (T[n,k]-Y[n,k])*Z[n,m]\n",
    "    return Z.T.dot(T-Y)"
   ]
  },
  {
   "cell_type": "code",
   "execution_count": null,
   "metadata": {
    "collapsed": false
   },
   "outputs": [],
   "source": [
    "def b2_derivative(T,Y):\n",
    "    #N,K = T.shape\n",
    "    #deltab2 = np.zeros(K)\n",
    "    #for n in xrange(N):\n",
    "    #    deltab2 = deltab2 + (T[n,:] - Y[n,:])\n",
    "    temp = (T-Y)\n",
    "    return temp.sum(axis=0)"
   ]
  },
  {
   "cell_type": "code",
   "execution_count": null,
   "metadata": {
    "collapsed": true
   },
   "outputs": [],
   "source": [
    "def w1_derivative(T,Y,Z,W2,X):\n",
    "#     N,D = X.shape[1]\n",
    "#     M = Z.shape[1]\n",
    "#     K = T.shape[1]\n",
    "    \n",
    "#     deltaw1 = np.zeros(D,M)\n",
    "    \n",
    "#     for n in xrange(N)\n",
    "#         for d in xrange(D):\n",
    "#             for m in xrange(M):\n",
    "#                 temp = Z[n,m]*(1-Z[n,m])*X[n,d]\n",
    "#                 temp2 = 0\n",
    "#                 for k in xrange(K):\n",
    "#                     temp2 += (T[n,k]-Y[n,k])*W2[m,k] \n",
    "#                 deltaw2[d][m] = temp*temp2\n",
    "    temp = ((T-Y).dot(W2.T))*"
   ]
  },
  {
   "cell_type": "code",
   "execution_count": null,
   "metadata": {
    "collapsed": true
   },
   "outputs": [],
   "source": [
    "def b1_derivative(T,Y,Z,W2):\n",
    "    N,D = X.shape[1]\n",
    "    M = Z.shape[1]\n",
    "    K = T.shape[1]\n",
    "    \n",
    "    deltaw1 = np.zeros(D,M)\n",
    "    \n",
    "    for n in xrange(N)\n",
    "        for d in xrange(D):\n",
    "            for m in xrange(M):\n",
    "                temp = Z[n,m]*(1-Z[n,m])\n",
    "                temp2 = 0\n",
    "                for k in xrange(K):\n",
    "                    temp2 += (T[n,k]-Y[n,k])*W2[m,k] \n",
    "                deltaw2[d][m] = temp*temp2\n",
    "    return deltaw2"
   ]
  },
  {
   "cell_type": "code",
   "execution_count": null,
   "metadata": {
    "collapsed": true
   },
   "outputs": [],
   "source": [
    "def forward(X,W1,b1,W2,b2):\n",
    "    a1 = X.dot(W1) + b1\n",
    "    Z1 = 1/(1+np.exp(a1))\n",
    "    a2 = Z1.dot(W2) + b2\n",
    "    expa2 = np.exp(a2)\n",
    "    expasum = np.sum(expa2,axis=1,keepdims=True)\n",
    "    expa2 = expa2/expasum\n",
    "    return expa2"
   ]
  },
  {
   "cell_type": "code",
   "execution_count": null,
   "metadata": {
    "collapsed": false
   },
   "outputs": [],
   "source": [
    "def classification_rate(Y,P):\n",
    "    return np.mean(Y==P)"
   ]
  },
  {
   "cell_type": "code",
   "execution_count": null,
   "metadata": {
    "collapsed": false
   },
   "outputs": [],
   "source": [
    "def main():\n",
    "    Nclass = 500\n",
    "    D = 2\n",
    "    M = 3\n",
    "    K = 3\n",
    "    X1 = np.random.randn(Nclass,D) + np.array([0,-2])\n",
    "    X2 = np.random.randn(Nclass,D) + np.array([2,2])\n",
    "    X3 = np.random.randn(Nclass,D) + np.array([-2,2])\n",
    "    X = np.vstack((X1,X2,X3))\n",
    "    classes = [[0]*Nclass + [1]*Nclass + [2]*Nclass]\n",
    "    plt.scatter(X[:,0],X[:,1],c=classes,alpha=0.5)\n",
    "    \n",
    "    \n",
    "    #initializing the weights\n",
    "    W1 = np.random.randn(D,M)\n",
    "    b1 = np.random.randn(M)\n",
    "    W2 = np.random.randn(M,K)\n",
    "    b2 = np.random.randn(K)\n",
    "    \n",
    "    for epoch in xrange(100000):\n",
    "            \n",
    "        Z2 = forward(X,W1,b1,W2,b2)\n",
    "        pred = np.argmax(Z2,axis=1)\n",
    "        c_rate = classification_rate(pred,classes)\n",
    "        print(c_rate)"
   ]
  },
  {
   "cell_type": "code",
   "execution_count": null,
   "metadata": {
    "collapsed": false
   },
   "outputs": [],
   "source": [
    "if __name__=='__main__':\n",
    "    main()"
   ]
  },
  {
   "cell_type": "code",
   "execution_count": null,
   "metadata": {
    "collapsed": false
   },
   "outputs": [],
   "source": [
    "a = np.array([[1,2],[3,4]])\n",
    "b = np.array([[1,2],[3,4]])\n",
    "a"
   ]
  },
  {
   "cell_type": "code",
   "execution_count": null,
   "metadata": {
    "collapsed": false
   },
   "outputs": [],
   "source": []
  },
  {
   "cell_type": "code",
   "execution_count": null,
   "metadata": {
    "collapsed": true
   },
   "outputs": [],
   "source": []
  },
  {
   "cell_type": "code",
   "execution_count": null,
   "metadata": {
    "collapsed": true
   },
   "outputs": [],
   "source": []
  }
 ],
 "metadata": {
  "kernelspec": {
   "display_name": "Python 2",
   "language": "python",
   "name": "python2"
  },
  "language_info": {
   "codemirror_mode": {
    "name": "ipython",
    "version": 2
   },
   "file_extension": ".py",
   "mimetype": "text/x-python",
   "name": "python",
   "nbconvert_exporter": "python",
   "pygments_lexer": "ipython2",
   "version": "2.7.13"
  }
 },
 "nbformat": 4,
 "nbformat_minor": 2
}
