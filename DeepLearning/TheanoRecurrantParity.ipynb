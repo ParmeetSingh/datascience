{
 "cells": [
  {
   "cell_type": "code",
   "execution_count": 289,
   "metadata": {
    "collapsed": false
   },
   "outputs": [],
   "source": [
    "import theano\n",
    "import theano.tensor as T\n",
    "import numpy as np\n",
    "import matplotlib.pyplot as plt\n",
    "import os\n",
    "%matplotlib inline\n",
    "import pandas as pd\n",
    "from sklearn.preprocessing import OneHotEncoder\n",
    "from sklearn.model_selection import train_test_split\n",
    "theano.config.exception_verbosity='high'"
   ]
  },
  {
   "cell_type": "code",
   "execution_count": 290,
   "metadata": {
    "collapsed": true
   },
   "outputs": [],
   "source": [
    "def all_parity_pairs_with_sequence_labels(nbit):\n",
    "    X, Y = all_parity_pairs(nbit)\n",
    "    N, t = X.shape\n",
    "\n",
    "    # we want every time step to have a label\n",
    "    Y_t = np.zeros(X.shape, dtype=np.int32)\n",
    "    for n in xrange(N):\n",
    "        ones_count = 0\n",
    "        for i in xrange(t):\n",
    "            if X[n,i] == 1:\n",
    "                ones_count += 1\n",
    "            if ones_count % 2 == 1:\n",
    "                Y_t[n,i] = 1\n",
    "\n",
    "    X = X.reshape(N, t, 1).astype(np.float32)\n",
    "    return X, Y_t"
   ]
  },
  {
   "cell_type": "code",
   "execution_count": 291,
   "metadata": {
    "collapsed": false
   },
   "outputs": [],
   "source": [
    "def all_parity_pairs(nbit):\n",
    "    # total number of samples (Ntotal) will be a multiple of 100\n",
    "    # why did I make it this way? I don't remember.\n",
    "    N = 2**nbit\n",
    "    remainder = 100 - (N % 100)\n",
    "    Ntotal = N + remainder\n",
    "    X = np.zeros((Ntotal, nbit))\n",
    "    Y = np.zeros(Ntotal)\n",
    "    for ii in xrange(Ntotal):\n",
    "        i = ii % N\n",
    "        # now generate the ith sample\n",
    "        for j in xrange(nbit):\n",
    "            if i % (2**(j+1)) != 0:\n",
    "                i -= 2**j\n",
    "                X[ii,j] = 1\n",
    "        Y[ii] = X[ii].sum() % 2\n",
    "    return X, Y\n"
   ]
  },
  {
   "cell_type": "code",
   "execution_count": 292,
   "metadata": {
    "collapsed": false
   },
   "outputs": [],
   "source": [
    "X,y = all_parity_pairs_with_sequence_labels(12)"
   ]
  },
  {
   "cell_type": "code",
   "execution_count": 293,
   "metadata": {
    "collapsed": false
   },
   "outputs": [],
   "source": [
    "class rnn:\n",
    "    def init_weight(self,M1,M2):\n",
    "        return np.random.randn(M1,M2)/np.sqrt(M1+M2)\n",
    "    def __init__(self,M):\n",
    "        self.M = M\n",
    "    def fit(self,X,Y,learning_rate=10e-1, mu=0.99,show_fig=True,print_period=10,epochs=2,f=T.tanh):\n",
    "        \n",
    "        X = X.astype(np.float32)\n",
    "        Y = Y.astype(np.int32)\n",
    "        \n",
    "        N,T,D = X.shape\n",
    "        M = self.M\n",
    "        self.f = f\n",
    "        \n",
    "        #initializing the inputs for the computation graphs\n",
    "        thX = theano.tensor.fmatrix('X')\n",
    "        thY = theano.tensor.ivector('Y')\n",
    "        \n",
    "        K = len(set(Y.flatten()))\n",
    "        \n",
    "        #initializing the intermediate shared variables.\n",
    "        Wx_init = self.init_weight(D,M)\n",
    "        Wh_init = self.init_weight(M,M)\n",
    "        bh_init = np.zeros(M)\n",
    "        Wo_init = self.init_weight(M,K)\n",
    "        bo_init = np.zeros(K)\n",
    "        ho_init=  np.zeros(M)\n",
    "        \n",
    "        \n",
    "        self.Wx = theano.shared(Wx_init)\n",
    "        self.Wh = theano.shared(Wh_init)\n",
    "        self.bh = theano.shared(bh_init)\n",
    "        self.Wo = theano.shared(Wo_init)\n",
    "        self.bo = theano.shared(bo_init)\n",
    "        self.ho = theano.shared(ho_init)\n",
    "        \n",
    "        \n",
    "        self.params = [self.Wx,self.Wh,self.bh,self.ho,self.Wo,self.bo]\n",
    "        \n",
    "        def recurrance(X,h_t):\n",
    "            h_t = self.f(X.dot(self.Wx)+h_t.dot(self.Wh) + self.bh)\n",
    "            y_t = theano.tensor.nnet.softmax(h_t.dot(self.Wo) + self.bo)\n",
    "            return h_t,y_t\n",
    "        \n",
    "        [h,y],_ = theano.scan(\n",
    "            fn=recurrance,\n",
    "            sequences=thX, \n",
    "            outputs_info=[self.ho,None],\n",
    "            n_steps=thX.shape[0]\n",
    "        )\n",
    "        \n",
    "        py_x = y[:,0,:]\n",
    "        \n",
    "        #enc = OneHotEncoder(sparse=False,categorical_features='',)\n",
    "        \n",
    "        cost = -1*theano.tensor.mean(theano.tensor.log(py_x[theano.tensor.arange(thY.shape[0]),thY]))\n",
    "        \n",
    "        dparams = [theano.shared(p.get_value()*0) for p in self.params]\n",
    "        \n",
    "        grads = theano.tensor.grad(cost,self.params)\n",
    "        \n",
    "        updates = [(p,p + mu*dp-learning_rate*g) for p,dp,g in zip(self.params,dparams,grads)       \n",
    "           ] + [ \n",
    "            (dp,mu*dp-learning_rate*g) for dp,g in zip(dparams,grads)\n",
    "          ]\n",
    "        \n",
    "        prediction = np.argmax(py_x,axis=1)\n",
    "        \n",
    "        self.train_op = theano.function(\n",
    "            inputs = [thX,thY],\n",
    "            outputs = [cost,prediction],\n",
    "            on_unused_input='warn',\n",
    "            updates=updates\n",
    "        )\n",
    "        self.predict_op = theano.function(\n",
    "            inputs = [thX],\n",
    "            outputs = [prediction]\n",
    "        )\n",
    "        costs = []\n",
    "        for i in xrange(epochs):\n",
    "            cost_ind = 0\n",
    "            for j in xrange(N):\n",
    "#                 print \"X[j] shape\",X[j]\n",
    "#                 print \"shape\",X[j].shape\n",
    "                \n",
    "#                 print \"y[j] shape\",Y[j]\n",
    "#                 print \"shape\",Y[j].shape\n",
    "                \n",
    "                [cost,prediction] = self.train_op(X[j],Y[j])\n",
    "                cost_ind = cost_ind + cost\n",
    "#                 print \"state value h is\",h\n",
    "#                 print \"state value h shape is\",h.shape\n",
    "#                 print \"intermediate output is\",Y\n",
    "#                 print \"intermediate output Y is\",Y.shape\n",
    "                \n",
    "            print \"Cost is \",cost_ind\n",
    "            costs.append(cost_ind)\n",
    "        if show_fig:\n",
    "            plt.plot(costs)\n",
    "     "
   ]
  },
  {
   "cell_type": "code",
   "execution_count": 294,
   "metadata": {
    "collapsed": false
   },
   "outputs": [],
   "source": [
    "rn = rnn(4)"
   ]
  },
  {
   "cell_type": "code",
   "execution_count": 295,
   "metadata": {
    "collapsed": false
   },
   "outputs": [],
   "source": [
    "X,y = all_parity_pairs_with_sequence_labels(12)"
   ]
  },
  {
   "cell_type": "code",
   "execution_count": 296,
   "metadata": {
    "collapsed": false,
    "scrolled": false
   },
   "outputs": [
    {
     "name": "stdout",
     "output_type": "stream",
     "text": [
      "Cost is  2848.17751713\n",
      "Cost is  2827.9186301\n",
      "Cost is  2826.57790578\n",
      "Cost is  2825.35877635\n",
      "Cost is  2823.84188838\n",
      "Cost is  2821.77565323\n",
      "Cost is  2818.92855997\n",
      "Cost is  2815.05086239\n",
      "Cost is  2809.88078428\n",
      "Cost is  2803.17354023\n",
      "Cost is  2794.72497464\n",
      "Cost is  2784.33497545\n",
      "Cost is  2771.71809505\n",
      "Cost is  2756.60654651\n",
      "Cost is  2739.33636446\n",
      "Cost is  2721.22204313\n",
      "Cost is  2703.60011169\n",
      "Cost is  2686.82975055\n",
      "Cost is  2670.51427934\n",
      "Cost is  2654.09330508\n",
      "Cost is  2637.28995529\n",
      "Cost is  2620.21552425\n",
      "Cost is  2602.96726988\n",
      "Cost is  2585.22256375\n",
      "Cost is  2566.0567796\n",
      "Cost is  2543.88307578\n",
      "Cost is  2516.86568445\n",
      "Cost is  2483.60505326\n",
      "Cost is  2446.81551692\n",
      "Cost is  2412.69620691\n",
      "Cost is  2382.69833532\n",
      "Cost is  2355.66492748\n",
      "Cost is  2330.27373532\n",
      "Cost is  2305.6871068\n",
      "Cost is  2281.6341115\n",
      "Cost is  2258.19830821\n",
      "Cost is  2235.63737115\n",
      "Cost is  2214.14539169\n",
      "Cost is  2193.52854883\n",
      "Cost is  2172.88035309\n",
      "Cost is  2150.3271267\n",
      "Cost is  2123.08321293\n",
      "Cost is  2089.25712319\n",
      "Cost is  2051.84304976\n",
      "Cost is  2017.5066014\n",
      "Cost is  1989.94808212\n",
      "Cost is  1968.9625692\n",
      "Cost is  1952.97856371\n",
      "Cost is  1940.45354565\n",
      "Cost is  1930.21823537\n"
     ]
    },
    {
     "data": {
      "image/png": "[encoded data removed]",
      "text/plain": [
       "<matplotlib.figure.Figure at 0x18d254a8>"
      ]
     },
     "metadata": {},
     "output_type": "display_data"
    }
   ],
   "source": [
    "rn.fit(X,y,learning_rate = 10e-5,f = T.nnet.sigmoid,epochs=50)"
   ]
  },
  {
   "cell_type": "code",
   "execution_count": null,
   "metadata": {
    "collapsed": false
   },
   "outputs": [],
   "source": []
  },
  {
   "cell_type": "code",
   "execution_count": 297,
   "metadata": {
    "collapsed": false
   },
   "outputs": [
    {
     "name": "stdout",
     "output_type": "stream",
     "text": [
      "(3L, 1L, 1L)\n"
     ]
    },
    {
     "data": {
      "text/plain": [
       "array([[[2, 1, 1]],\n",
       "\n",
       "       [[2, 1, 1]],\n",
       "\n",
       "       [[2, 1, 1]]])"
      ]
     },
     "execution_count": 297,
     "metadata": {},
     "output_type": "execute_result"
    }
   ],
   "source": [
    "print b.shape\n",
    "a[np.arange(a.shape[0]),b]"
   ]
  },
  {
   "cell_type": "code",
   "execution_count": 298,
   "metadata": {
    "collapsed": false
   },
   "outputs": [
    {
     "data": {
      "text/plain": [
       "[(1, 2), (2, 3)]"
      ]
     },
     "execution_count": 298,
     "metadata": {},
     "output_type": "execute_result"
    }
   ],
   "source": [
    "[(1,2)] + [(2,3)]"
   ]
  },
  {
   "cell_type": "code",
   "execution_count": null,
   "metadata": {
    "collapsed": true
   },
   "outputs": [],
   "source": []
  }
 ],
 "metadata": {
  "kernelspec": {
   "display_name": "Python 2",
   "language": "python",
   "name": "python2"
  },
  "language_info": {
   "codemirror_mode": {
    "name": "ipython",
    "version": 2
   },
   "file_extension": ".py",
   "mimetype": "text/x-python",
   "name": "python",
   "nbconvert_exporter": "python",
   "pygments_lexer": "ipython2",
   "version": "2.7.13"
  }
 },
 "nbformat": 4,
 "nbformat_minor": 2
}
