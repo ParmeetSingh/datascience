{
 "cells": [
  {
   "cell_type": "code",
   "execution_count": 6,
   "metadata": {
    "collapsed": true
   },
   "outputs": [],
   "source": [
    "import theano\n",
    "import theano.tensor as T\n",
    "import numpy as np\n",
    "import matplotlib.pyplot as plt\n",
    "import os\n",
    "%matplotlib inline\n",
    "import pandas as pd\n",
    "from sklearn.preprocessing import OneHotEncoder\n",
    "from sklearn.model_selection import train_test_split"
   ]
  },
  {
   "cell_type": "code",
   "execution_count": 18,
   "metadata": {
    "collapsed": false
   },
   "outputs": [],
   "source": [
    "def init_weight(M1,M2):\n",
    "    return np.random.randn(M1,M2)\n",
    "class HiddenLayer(object):\n",
    "    def __init__(self,M1,M2,f):\n",
    "        W_init = init_weight(M1,M2)\n",
    "        b_init = np.zeros(M2)\n",
    "        W = theano.shared(W_init)\n",
    "        b = theano.shared(b_init)\n",
    "        self.W = W\n",
    "        self.b = b\n",
    "        self.f = f\n",
    "        self.params = [self.W,self.b]\n",
    "    def forward(self,X):\n",
    "        return self.f(X.dot(self.W) + this.b)\n",
    "class ANN(object):\n",
    "    def __init__(self,hidden_layer_sizes):\n",
    "        self.hidden_layer_sizes = hidden_layer_sizes\n",
    "    def fit(X,y,learning_rate=0.4,mu=0.8,func=T.nnet.relu,reg=0.4,batch_sz=500,epochs=100):\n",
    "        #converting X and y to float and integer respectively\n",
    "#         X = X.astype(np.float32)\n",
    "#         y = y.astype(np.int32)\n",
    "        \n",
    "        N,D = X.shape\n",
    "        \n",
    "        #initializing the hidden wieghts\n",
    "        self.layers = []\n",
    "        M1 = N\n",
    "        for M2 in xrange(self.hidden_layer_sizes):\n",
    "            layer = HiddenLayer(M1,M2,f)\n",
    "            self.layers.append(layer)\n",
    "            M1 = M2\n",
    "        lastLayer = HiddenLayer(M1,D,T.nnet.softmax)\n",
    "        self.layers.append(lastLayer)\n",
    "        \n",
    "        self.params = []\n",
    "        for i in self.layers:\n",
    "            self.params += i.params\n",
    "        \n",
    "        #for momentum\n",
    "        dparams  = [theano.shared(np.zeros_like(p.get_value())) for p in self.params]\n",
    "        \n",
    "        thX = T.matrix('X')\n",
    "        thY = T.ivector('y')\n",
    "        \n",
    "        p_y_given_x = self.forward(thX)\n",
    "        \n",
    "        rcost = -reg*T.sum([(p*p).sum() for p in self.params])\n",
    "        cost = -T.sum(thY*T.log(p_y_given_x))\n",
    "        prediction = np.argmax(p_y_given_x,axis=1)\n",
    "        \n",
    "        grads = T.grad(cost,params)\n",
    "        \n",
    "        updates = [(p,p + mu*dp - learning_rate*g) for p,dp,g in zip(self.params,dparams,grads)] \n",
    "        + [(dp,mu*dp - learning_rate*g) for dp,g in zip(self.dparams,grads)]\n",
    "        \n",
    "        self.train_op = theano.function(\n",
    "            inputs = [thX,thY],\n",
    "            outputs = [cost,prediction],\n",
    "            updates = updates\n",
    "        )\n",
    "        \n",
    "        self.predict_op = theano.function(\n",
    "            inputs = [thX],\n",
    "            outputs = [prediction],\n",
    "            updates = updates\n",
    "        )\n",
    "        \n",
    "        num_batches = N/batch_sz\n",
    "        \n",
    "        costs = []\n",
    "        \n",
    "        for j in xrange(epochs):\n",
    "            for i in xrange(num_batches):\n",
    "                xbatch = X[batch_sz*i:batch_sz*i+batch_sz]\n",
    "                ybatch = y[batch_sz*i:batch_sz*i+batch_sz]\n",
    "\n",
    "                cost,prediction = train_op(xbatch,ybatch)\n",
    "\n",
    "                if i % print_period==100:\n",
    "                    costs.append(cost)\n",
    "                    print \"Cost at iteration\",i,\"is\",cost\n",
    "        if show_fig:\n",
    "            plt.plot(costs)\n",
    "            plt.show()\n",
    "        \n",
    "    def forward(self,X):\n",
    "        out = X\n",
    "        for layer in self.layers:\n",
    "            out = layer.forward(out)\n",
    "        return out\n",
    "    def score(self,X,y):\n",
    "        prediction = self.predict_op(X)\n",
    "        return np.mean(prediction==y)\n",
    "    def prediction(self,X,y):\n",
    "        return self.predict_op(X)"
   ]
  },
  {
   "cell_type": "code",
   "execution_count": 2,
   "metadata": {
    "collapsed": false
   },
   "outputs": [],
   "source": [
    "def get_normalized_data():\n",
    "    print(\"Reading in and transforming data...\")\n",
    "\n",
    "    if not os.path.exists('train.csv'):\n",
    "        print('Looking for /train.csv')\n",
    "        print('You have not downloaded the data and/or not placed the files in the correct location.')\n",
    "        print('Please get the data from: https://www.kaggle.com/c/digit-recognizer')\n",
    "        print('Place train.csv in the folder large_files adjacent to the class folder')\n",
    "        exit()\n",
    "\n",
    "    df = pd.read_csv('train.csv')\n",
    "    data = df.as_matrix().astype(np.float32)\n",
    "    np.random.shuffle(data)\n",
    "    X = data[:, 1:]\n",
    "    mu = X.mean(axis=0)\n",
    "    std = X.std(axis=0)\n",
    "    np.place(std, std == 0, 1)\n",
    "    X = (X - mu) / std # normalize the data\n",
    "    Y = data[:, 0]\n",
    "    return X, Y"
   ]
  },
  {
   "cell_type": "code",
   "execution_count": 5,
   "metadata": {
    "collapsed": false
   },
   "outputs": [
    {
     "name": "stdout",
     "output_type": "stream",
     "text": [
      "Reading in and transforming data...\n"
     ]
    }
   ],
   "source": [
    "X,y = get_normalized_data()"
   ]
  },
  {
   "cell_type": "code",
   "execution_count": 8,
   "metadata": {
    "collapsed": false
   },
   "outputs": [],
   "source": [
    "X_train, X_test, y_trainO, y_testO = train_test_split(X, y, test_size=0.33, random_state=42)"
   ]
  },
  {
   "cell_type": "code",
   "execution_count": 12,
   "metadata": {
    "collapsed": false
   },
   "outputs": [],
   "source": [
    "enc = OneHotEncoder(categorical_features=[0],sparse=False)\n",
    "y_train = enc.fit_transform(y_trainO.reshape(-1,1))\n",
    "y_test = enc.fit_transform(y_testO.reshape(-1,1))"
   ]
  },
  {
   "cell_type": "code",
   "execution_count": 22,
   "metadata": {
    "collapsed": false
   },
   "outputs": [],
   "source": [
    "ann = ANN(hidden_layer_sizes=[10])"
   ]
  },
  {
   "cell_type": "code",
   "execution_count": 23,
   "metadata": {
    "collapsed": false
   },
   "outputs": [
    {
     "ename": "AttributeError",
     "evalue": "'ANN' object has no attribute 'astype'",
     "output_type": "error",
     "traceback": [
      "\u001b[0;31m---------------------------------------------------------------------------\u001b[0m",
      "\u001b[0;31mAttributeError\u001b[0m                            Traceback (most recent call last)",
      "\u001b[0;32m<ipython-input-23-a5d2be18b1b8>\u001b[0m in \u001b[0;36m<module>\u001b[0;34m()\u001b[0m\n\u001b[0;32m----> 1\u001b[0;31m \u001b[0mann\u001b[0m\u001b[1;33m.\u001b[0m\u001b[0mfit\u001b[0m\u001b[1;33m(\u001b[0m\u001b[0mX_train\u001b[0m\u001b[1;33m,\u001b[0m\u001b[0my_train\u001b[0m\u001b[1;33m)\u001b[0m\u001b[1;33m\u001b[0m\u001b[0m\n\u001b[0m",
      "\u001b[0;32m<ipython-input-18-be0207748336>\u001b[0m in \u001b[0;36mfit\u001b[0;34m(X, y, learning_rate, mu, func, reg, batch_sz, epochs)\u001b[0m\n\u001b[1;32m     18\u001b[0m     \u001b[1;32mdef\u001b[0m \u001b[0mfit\u001b[0m\u001b[1;33m(\u001b[0m\u001b[0mX\u001b[0m\u001b[1;33m,\u001b[0m\u001b[0my\u001b[0m\u001b[1;33m,\u001b[0m\u001b[0mlearning_rate\u001b[0m\u001b[1;33m=\u001b[0m\u001b[1;36m0.4\u001b[0m\u001b[1;33m,\u001b[0m\u001b[0mmu\u001b[0m\u001b[1;33m=\u001b[0m\u001b[1;36m0.8\u001b[0m\u001b[1;33m,\u001b[0m\u001b[0mfunc\u001b[0m\u001b[1;33m=\u001b[0m\u001b[0mT\u001b[0m\u001b[1;33m.\u001b[0m\u001b[0mnnet\u001b[0m\u001b[1;33m.\u001b[0m\u001b[0mrelu\u001b[0m\u001b[1;33m,\u001b[0m\u001b[0mreg\u001b[0m\u001b[1;33m=\u001b[0m\u001b[1;36m0.4\u001b[0m\u001b[1;33m,\u001b[0m\u001b[0mbatch_sz\u001b[0m\u001b[1;33m=\u001b[0m\u001b[1;36m500\u001b[0m\u001b[1;33m,\u001b[0m\u001b[0mepochs\u001b[0m\u001b[1;33m=\u001b[0m\u001b[1;36m100\u001b[0m\u001b[1;33m)\u001b[0m\u001b[1;33m:\u001b[0m\u001b[1;33m\u001b[0m\u001b[0m\n\u001b[1;32m     19\u001b[0m         \u001b[1;31m#converting X and y to float and integer respectively\u001b[0m\u001b[1;33m\u001b[0m\u001b[1;33m\u001b[0m\u001b[0m\n\u001b[0;32m---> 20\u001b[0;31m         \u001b[0mX\u001b[0m \u001b[1;33m=\u001b[0m \u001b[0mX\u001b[0m\u001b[1;33m.\u001b[0m\u001b[0mastype\u001b[0m\u001b[1;33m(\u001b[0m\u001b[0mnp\u001b[0m\u001b[1;33m.\u001b[0m\u001b[0mfloat32\u001b[0m\u001b[1;33m)\u001b[0m\u001b[1;33m\u001b[0m\u001b[0m\n\u001b[0m\u001b[1;32m     21\u001b[0m         \u001b[0my\u001b[0m \u001b[1;33m=\u001b[0m \u001b[0my\u001b[0m\u001b[1;33m.\u001b[0m\u001b[0mastype\u001b[0m\u001b[1;33m(\u001b[0m\u001b[0mnp\u001b[0m\u001b[1;33m.\u001b[0m\u001b[0mint32\u001b[0m\u001b[1;33m)\u001b[0m\u001b[1;33m\u001b[0m\u001b[0m\n\u001b[1;32m     22\u001b[0m \u001b[1;33m\u001b[0m\u001b[0m\n",
      "\u001b[0;31mAttributeError\u001b[0m: 'ANN' object has no attribute 'astype'"
     ]
    }
   ],
   "source": [
    "ann.fit(X_train,y_train)"
   ]
  },
  {
   "cell_type": "code",
   "execution_count": null,
   "metadata": {
    "collapsed": false
   },
   "outputs": [],
   "source": []
  },
  {
   "cell_type": "code",
   "execution_count": null,
   "metadata": {
    "collapsed": false
   },
   "outputs": [],
   "source": []
  },
  {
   "cell_type": "code",
   "execution_count": null,
   "metadata": {
    "collapsed": true
   },
   "outputs": [],
   "source": []
  },
  {
   "cell_type": "code",
   "execution_count": null,
   "metadata": {
    "collapsed": false
   },
   "outputs": [],
   "source": []
  },
  {
   "cell_type": "code",
   "execution_count": null,
   "metadata": {
    "collapsed": true
   },
   "outputs": [],
   "source": []
  },
  {
   "cell_type": "code",
   "execution_count": null,
   "metadata": {
    "collapsed": false
   },
   "outputs": [],
   "source": []
  },
  {
   "cell_type": "code",
   "execution_count": null,
   "metadata": {
    "collapsed": false
   },
   "outputs": [],
   "source": []
  },
  {
   "cell_type": "code",
   "execution_count": null,
   "metadata": {
    "collapsed": false
   },
   "outputs": [],
   "source": []
  },
  {
   "cell_type": "code",
   "execution_count": null,
   "metadata": {
    "collapsed": true
   },
   "outputs": [],
   "source": []
  }
 ],
 "metadata": {
  "kernelspec": {
   "display_name": "Python 2",
   "language": "python",
   "name": "python2"
  },
  "language_info": {
   "codemirror_mode": {
    "name": "ipython",
    "version": 2
   },
   "file_extension": ".py",
   "mimetype": "text/x-python",
   "name": "python",
   "nbconvert_exporter": "python",
   "pygments_lexer": "ipython2",
   "version": "2.7.13"
  }
 },
 "nbformat": 4,
 "nbformat_minor": 2
}
