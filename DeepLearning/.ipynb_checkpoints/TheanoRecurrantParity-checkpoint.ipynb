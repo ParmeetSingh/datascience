{
 "cells": [
  {
   "cell_type": "code",
   "execution_count": 39,
   "metadata": {
    "collapsed": false
   },
   "outputs": [],
   "source": [
    "import theano\n",
    "import theano.tensor as T\n",
    "import numpy as np\n",
    "import matplotlib.pyplot as plt\n",
    "import os\n",
    "%matplotlib inline\n",
    "import pandas as pd\n",
    "from sklearn.preprocessing import OneHotEncoder\n",
    "from sklearn.model_selection import train_test_split\n",
    "theano.config.exception_verbosity='high'"
   ]
  },
  {
   "cell_type": "code",
   "execution_count": 40,
   "metadata": {
    "collapsed": true
   },
   "outputs": [],
   "source": [
    "def all_parity_pairs_with_sequence_labels(nbit):\n",
    "    X, Y = all_parity_pairs(nbit)\n",
    "    N, t = X.shape\n",
    "\n",
    "    # we want every time step to have a label\n",
    "    Y_t = np.zeros(X.shape, dtype=np.int32)\n",
    "    for n in xrange(N):\n",
    "        ones_count = 0\n",
    "        for i in xrange(t):\n",
    "            if X[n,i] == 1:\n",
    "                ones_count += 1\n",
    "            if ones_count % 2 == 1:\n",
    "                Y_t[n,i] = 1\n",
    "\n",
    "    X = X.reshape(N, t, 1).astype(np.float32)\n",
    "    return X, Y_t"
   ]
  },
  {
   "cell_type": "code",
   "execution_count": 41,
   "metadata": {
    "collapsed": false
   },
   "outputs": [],
   "source": [
    "def all_parity_pairs(nbit):\n",
    "    # total number of samples (Ntotal) will be a multiple of 100\n",
    "    # why did I make it this way? I don't remember.\n",
    "    N = 2**nbit\n",
    "    remainder = 100 - (N % 100)\n",
    "    Ntotal = N + remainder\n",
    "    X = np.zeros((Ntotal, nbit))\n",
    "    Y = np.zeros(Ntotal)\n",
    "    for ii in xrange(Ntotal):\n",
    "        i = ii % N\n",
    "        # now generate the ith sample\n",
    "        for j in xrange(nbit):\n",
    "            if i % (2**(j+1)) != 0:\n",
    "                i -= 2**j\n",
    "                X[ii,j] = 1\n",
    "        Y[ii] = X[ii].sum() % 2\n",
    "    return X, Y\n"
   ]
  },
  {
   "cell_type": "code",
   "execution_count": 42,
   "metadata": {
    "collapsed": false
   },
   "outputs": [],
   "source": [
    "X,y = all_parity_pairs_with_sequence_labels(12)"
   ]
  },
  {
   "cell_type": "code",
   "execution_count": 103,
   "metadata": {
    "collapsed": false
   },
   "outputs": [],
   "source": [
    "class rnn:\n",
    "    def init_weight(self,M1,M2):\n",
    "        return np.random.randn(M1,M2)/np.sqrt(M1+M2)\n",
    "    def __init__(self,M):\n",
    "        self.M = M\n",
    "    def fit(self,X,y,learning_rate=10e-3,mu=0.92,show_fig=True,print_period=100,epochs=1,f=T.tanh):\n",
    "        N,T,D = X.shape\n",
    "        M = self.M\n",
    "        self.f = f\n",
    "        \n",
    "        \n",
    "        thX = theano.tensor.fmatrix('X')\n",
    "        thY = theano.tensor.ivector('Y')\n",
    "        \n",
    "        K = len(set(y.flatten())) \n",
    "        Wx_init = self.init_weight(D,M)\n",
    "        Wh_init = self.init_weight(M,M)\n",
    "        bh_init = np.zeros(M)\n",
    "        Wo_init = self.init_weight(M,K)\n",
    "        bo_init = np.zeros(K)\n",
    "        ho_init=  np.zeros(M)\n",
    "        \n",
    "        \n",
    "        self.Wx = theano.shared(Wx_init)\n",
    "        self.Wh = theano.shared(Wh_init)\n",
    "        self.bh = theano.shared(bh_init)\n",
    "        self.Wo = theano.shared(Wo_init)\n",
    "        self.bo = theano.shared(bo_init)\n",
    "        self.ho = theano.shared(ho_init)\n",
    "        \n",
    "        \n",
    "        self.params = [self.Wx,self.Wh,self.bh,self.ho,self.Wo,self.bo]\n",
    "        \n",
    "        def recurrance(X,h_t):\n",
    "            h_t = self.f(X.dot(self.Wx)+h_t.dot(self.Wh) + self.bh)\n",
    "            y_t = theano.tensor.nnet.softmax(h_t.dot(self.Wo) + self.bo)\n",
    "            return h_t,y_t\n",
    "        \n",
    "        [h,y],_ = theano.scan(\n",
    "            fn=recurrance,\n",
    "            sequences=thX, \n",
    "            outputs_info=[self.ho,None],\n",
    "            n_steps=thX.shape[0]\n",
    "        )\n",
    "        \n",
    "        train_op = theano.function(\n",
    "            inputs = [thX],\n",
    "            outputs = [h,y]\n",
    "        )\n",
    "        costs = []\n",
    "        for i in xrange(epochs):\n",
    "            for j in xrange(N):\n",
    "                print \"X[j] shape\",X[j]\n",
    "                print \"shape\",X[j].shape\n",
    "                \n",
    "                print \"y[j] shape\",y[j]\n",
    "                print \"shape\",y[j].shape\n",
    "                \n",
    "                [h,y] = train_op(X[j])\n",
    "                \n",
    "                print \"state value h is\",h\n",
    "                print \"intermediate output is\",y\n",
    "                \n",
    "#                 if j%print_period==0:\n",
    "#                     print \"Cost is \",cost\n",
    "#                     costs.append(cost)\n",
    "        "
   ]
  },
  {
   "cell_type": "code",
   "execution_count": 104,
   "metadata": {
    "collapsed": false
   },
   "outputs": [],
   "source": [
    "rn = rnn(4)"
   ]
  },
  {
   "cell_type": "code",
   "execution_count": 105,
   "metadata": {
    "collapsed": false
   },
   "outputs": [],
   "source": [
    "X,y = all_parity_pairs_with_sequence_labels(12)"
   ]
  },
  {
   "cell_type": "code",
   "execution_count": 106,
   "metadata": {
    "collapsed": false
   },
   "outputs": [
    {
     "name": "stdout",
     "output_type": "stream",
     "text": [
      "X[j] shape [[ 0.]\n",
      " [ 0.]\n",
      " [ 0.]\n",
      " [ 0.]\n",
      " [ 0.]\n",
      " [ 0.]\n",
      " [ 0.]\n",
      " [ 0.]\n",
      " [ 0.]\n",
      " [ 0.]\n",
      " [ 0.]\n",
      " [ 0.]]\n",
      "state value h is [[ 0.  0.  0.  0.]\n",
      " [ 0.  0.  0.  0.]\n",
      " [ 0.  0.  0.  0.]\n",
      " [ 0.  0.  0.  0.]\n",
      " [ 0.  0.  0.  0.]\n",
      " [ 0.  0.  0.  0.]\n",
      " [ 0.  0.  0.  0.]\n",
      " [ 0.  0.  0.  0.]\n",
      " [ 0.  0.  0.  0.]\n",
      " [ 0.  0.  0.  0.]\n",
      " [ 0.  0.  0.  0.]\n",
      " [ 0.  0.  0.  0.]]\n",
      "intermediate output is [[[ 0.5  0.5]]\n",
      "\n",
      " [[ 0.5  0.5]]\n",
      "\n",
      " [[ 0.5  0.5]]\n",
      "\n",
      " [[ 0.5  0.5]]\n",
      "\n",
      " [[ 0.5  0.5]]\n",
      "\n",
      " [[ 0.5  0.5]]\n",
      "\n",
      " [[ 0.5  0.5]]\n",
      "\n",
      " [[ 0.5  0.5]]\n",
      "\n",
      " [[ 0.5  0.5]]\n",
      "\n",
      " [[ 0.5  0.5]]\n",
      "\n",
      " [[ 0.5  0.5]]\n",
      "\n",
      " [[ 0.5  0.5]]]\n",
      "Cost is "
     ]
    },
    {
     "ename": "NameError",
     "evalue": "global name 'cost' is not defined",
     "output_type": "error",
     "traceback": [
      "\u001b[0;31m---------------------------------------------------------------------------\u001b[0m",
      "\u001b[0;31mNameError\u001b[0m                                 Traceback (most recent call last)",
      "\u001b[0;32m<ipython-input-106-0aeade345124>\u001b[0m in \u001b[0;36m<module>\u001b[0;34m()\u001b[0m\n\u001b[0;32m----> 1\u001b[0;31m \u001b[0mrn\u001b[0m\u001b[1;33m.\u001b[0m\u001b[0mfit\u001b[0m\u001b[1;33m(\u001b[0m\u001b[0mX\u001b[0m\u001b[1;33m,\u001b[0m\u001b[0my\u001b[0m\u001b[1;33m)\u001b[0m\u001b[1;33m\u001b[0m\u001b[0m\n\u001b[0m",
      "\u001b[0;32m<ipython-input-103-4dd817632044>\u001b[0m in \u001b[0;36mfit\u001b[0;34m(self, X, y, learning_rate, mu, show_fig, print_period, epochs, f)\u001b[0m\n\u001b[1;32m     58\u001b[0m \u001b[1;33m\u001b[0m\u001b[0m\n\u001b[1;32m     59\u001b[0m                 \u001b[1;32mif\u001b[0m \u001b[0mj\u001b[0m\u001b[1;33m%\u001b[0m\u001b[0mprint_period\u001b[0m\u001b[1;33m==\u001b[0m\u001b[1;36m0\u001b[0m\u001b[1;33m:\u001b[0m\u001b[1;33m\u001b[0m\u001b[0m\n\u001b[0;32m---> 60\u001b[0;31m                     \u001b[1;32mprint\u001b[0m \u001b[1;34m\"Cost is \"\u001b[0m\u001b[1;33m,\u001b[0m\u001b[0mcost\u001b[0m\u001b[1;33m\u001b[0m\u001b[0m\n\u001b[0m\u001b[1;32m     61\u001b[0m                     \u001b[0mcosts\u001b[0m\u001b[1;33m.\u001b[0m\u001b[0mappend\u001b[0m\u001b[1;33m(\u001b[0m\u001b[0mcost\u001b[0m\u001b[1;33m)\u001b[0m\u001b[1;33m\u001b[0m\u001b[0m\n\u001b[1;32m     62\u001b[0m \u001b[1;33m\u001b[0m\u001b[0m\n",
      "\u001b[0;31mNameError\u001b[0m: global name 'cost' is not defined"
     ]
    }
   ],
   "source": [
    "rn.fit(X,y)"
   ]
  },
  {
   "cell_type": "code",
   "execution_count": null,
   "metadata": {
    "collapsed": true
   },
   "outputs": [],
   "source": []
  }
 ],
 "metadata": {
  "kernelspec": {
   "display_name": "Python 2",
   "language": "python",
   "name": "python2"
  },
  "language_info": {
   "codemirror_mode": {
    "name": "ipython",
    "version": 2
   },
   "file_extension": ".py",
   "mimetype": "text/x-python",
   "name": "python",
   "nbconvert_exporter": "python",
   "pygments_lexer": "ipython2",
   "version": "2.7.13"
  }
 },
 "nbformat": 4,
 "nbformat_minor": 2
}
