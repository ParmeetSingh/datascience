{
 "cells": [
  {
   "cell_type": "code",
   "execution_count": 112,
   "metadata": {
    "collapsed": true
   },
   "outputs": [],
   "source": [
    "import theano\n",
    "import theano.tensor as T\n",
    "import numpy as np\n",
    "import matplotlib.pyplot as plt\n",
    "import os\n",
    "%matplotlib inline\n",
    "import pandas as pd\n",
    "from sklearn.preprocessing import OneHotEncoder\n",
    "from sklearn.model_selection import train_test_split\n",
    "theano.config.exception_verbosity='high'"
   ]
  },
  {
   "cell_type": "code",
   "execution_count": 121,
   "metadata": {
    "collapsed": false
   },
   "outputs": [],
   "source": [
    "def init_weight(M1,M2):\n",
    "    return np.random.randn(M1,M2)/np.sqrt(M1*M2)\n",
    "class HiddenLayer(object):\n",
    "    def __init__(self,M1,M2,f):\n",
    "        W_init = init_weight(M1,M2)\n",
    "        b_init = np.zeros(M2)\n",
    "        W = theano.shared(W_init)\n",
    "        b = theano.shared(b_init)\n",
    "        self.W = W\n",
    "        self.b = b\n",
    "        self.f = f\n",
    "        self.params = [self.W,self.b]\n",
    "    def forward(self,X):\n",
    "        return self.f(X.dot(self.W) + self.b)\n",
    "class ANN(object):\n",
    "    def __init__(self,hidden_layer_sizes):\n",
    "        self.hidden_layer_sizes = hidden_layer_sizes\n",
    "    def fit(self,X,y,learning_rate=0.0004,mu=0.8,func=T.nnet.relu,reg=0.4,batch_sz=500,epochs=100,f=T.nnet.relu,show_fig=True,print_period=100):\n",
    "        #converting X and y to float and integer respectively\n",
    "        X = X.astype(np.float32)\n",
    "        y = y.astype(np.int32)\n",
    "        \n",
    "        print \"y\",y.shape\n",
    "        N,D = X.shape\n",
    "        K = y.shape[1]\n",
    "        #initializing the hidden wieghts\n",
    "        self.layers = []\n",
    "        M1 = D\n",
    "        for M2 in self.hidden_layer_sizes:\n",
    "            layer = HiddenLayer(M1,M2,f)\n",
    "            self.layers.append(layer)\n",
    "            M1 = M2\n",
    "        lastLayer = HiddenLayer(M1,K,T.nnet.softmax)\n",
    "        self.layers.append(lastLayer)\n",
    "        \n",
    "        self.params = []\n",
    "        for i in self.layers:\n",
    "            self.params += i.params\n",
    "        \n",
    "        #for momentum\n",
    "        dparams  = [theano.shared(np.zeros_like(p.get_value())) for p in self.params]\n",
    "        \n",
    "        thX = T.matrix('X')\n",
    "        thY = T.matrix('y')\n",
    "        \n",
    "        p_y_given_x = self.forward(thX)\n",
    "        \n",
    "        cost = reg*T.sum([(p*p).sum() for p in self.params])\n",
    "        cost += -T.sum(thY*T.log(p_y_given_x))\n",
    "        prediction = np.argmax(p_y_given_x,axis=1)\n",
    "        \n",
    "        grads = T.grad(cost,self.params)\n",
    "        \n",
    "        update = [(p,p + mu*dp - learning_rate*g) for p,dp,g in zip(self.params,dparams,grads)]  +  [(dp,mu*dp - learning_rate*g) for dp,g in zip(dparams,grads)]\n",
    "        \n",
    "#         updates = [(p, p + mu*dp - learning_rate*g) for p, dp, g in zip(self.params, dparams, grads)]\n",
    "#         + [(dp, mu*dp - learning_rate*g) for dp, g in zip(dparams, grads)]\n",
    "       \n",
    "        self.train_op = theano.function(\n",
    "            inputs = [thX,thY],\n",
    "            outputs = [cost,prediction],\n",
    "            updates = update,\n",
    "            on_unused_input='ignore'\n",
    "        )\n",
    "        \n",
    "        self.predict_op = theano.function(\n",
    "            inputs = [thX],\n",
    "            outputs = [prediction]\n",
    "        )\n",
    "        \n",
    "        num_batches = N/batch_sz\n",
    "        \n",
    "        costs = []\n",
    "        \n",
    "        for j in xrange(epochs):\n",
    "            for i in xrange(num_batches):\n",
    "                xbatch = X[batch_sz*i:batch_sz*i+batch_sz]\n",
    "                ybatch = y[batch_sz*i:batch_sz*i+batch_sz]\n",
    "                \n",
    "                cost,prediction = self.train_op(xbatch,ybatch)\n",
    "\n",
    "                if i % print_period==0:\n",
    "                    costs.append(cost)\n",
    "                    print \"Cost at iteration\",i,\"is\",cost\n",
    "        if show_fig:\n",
    "            plt.plot(costs)\n",
    "            plt.show()\n",
    "        \n",
    "    def forward(self,X):\n",
    "        out = X\n",
    "        for layer in self.layers:\n",
    "            out = layer.forward(out)\n",
    "        print out.shape\n",
    "        return out\n",
    "    def score(self,X,y):\n",
    "        prediction = self.predict_op(X)\n",
    "        print prediction\n",
    "        return np.mean(prediction==y)\n",
    "    def prediction(self,X,y):\n",
    "        return self.predict_op(X)"
   ]
  },
  {
   "cell_type": "code",
   "execution_count": 47,
   "metadata": {
    "collapsed": false
   },
   "outputs": [],
   "source": [
    "def get_normalized_data():\n",
    "    print(\"Reading in and transforming data...\")\n",
    "\n",
    "    if not os.path.exists('train.csv'):\n",
    "        print('Looking for /train.csv')\n",
    "        print('You have not downloaded the data and/or not placed the files in the correct location.')\n",
    "        print('Please get the data from: https://www.kaggle.com/c/digit-recognizer')\n",
    "        print('Place train.csv in the folder large_files adjacent to the class folder')\n",
    "        exit()\n",
    "\n",
    "    df = pd.read_csv('train.csv')\n",
    "    data = df.as_matrix().astype(np.float32)\n",
    "    np.random.shuffle(data)\n",
    "    X = data[:, 1:]\n",
    "    mu = X.mean(axis=0)\n",
    "    std = X.std(axis=0)\n",
    "    np.place(std, std == 0, 1)\n",
    "    X = (X - mu) / std # normalize the data\n",
    "    Y = data[:, 0]\n",
    "    return X, Y"
   ]
  },
  {
   "cell_type": "code",
   "execution_count": 5,
   "metadata": {
    "collapsed": false
   },
   "outputs": [
    {
     "name": "stdout",
     "output_type": "stream",
     "text": [
      "Reading in and transforming data...\n"
     ]
    }
   ],
   "source": [
    "X,y = get_normalized_data()"
   ]
  },
  {
   "cell_type": "code",
   "execution_count": 6,
   "metadata": {
    "collapsed": false
   },
   "outputs": [],
   "source": [
    "X_train, X_test, y_trainO, y_testO = train_test_split(X, y, test_size=0.33, random_state=42)"
   ]
  },
  {
   "cell_type": "code",
   "execution_count": 36,
   "metadata": {
    "collapsed": false
   },
   "outputs": [],
   "source": [
    "enc = OneHotEncoder(categorical_features=[0],sparse=False)\n",
    "y_train = enc.fit_transform(y_trainO.reshape(-1,1))\n",
    "y_test = enc.fit_transform(y_testO.reshape(-1,1))"
   ]
  },
  {
   "cell_type": "code",
   "execution_count": 95,
   "metadata": {
    "collapsed": false
   },
   "outputs": [],
   "source": []
  },
  {
   "cell_type": "code",
   "execution_count": 126,
   "metadata": {
    "collapsed": false
   },
   "outputs": [
    {
     "name": "stdout",
     "output_type": "stream",
     "text": [
      "y (28140L, 10L)\n",
      "Shape.0\n",
      "Cost at iteration 0 is 1162.88063437\n",
      "Cost at iteration 0 is 156.295476062\n",
      "Cost at iteration 0 is 151.230401844\n",
      "Cost at iteration 0 is 143.715421031\n",
      "Cost at iteration 0 is 139.315111966\n",
      "Cost at iteration 0 is 129.795612448\n",
      "Cost at iteration 0 is 123.630461959\n",
      "Cost at iteration 0 is 121.76152635\n",
      "Cost at iteration 0 is 120.342508036\n",
      "Cost at iteration 0 is 121.499270671\n",
      "Cost at iteration 0 is 111.954952038\n",
      "Cost at iteration 0 is 111.202601691\n",
      "Cost at iteration 0 is 112.694323183\n",
      "Cost at iteration 0 is 110.63882567\n",
      "Cost at iteration 0 is 110.782509323\n",
      "Cost at iteration 0 is 110.404011183\n",
      "Cost at iteration 0 is 110.315718254\n",
      "Cost at iteration 0 is 108.547224484\n",
      "Cost at iteration 0 is 107.659593996\n",
      "Cost at iteration 0 is 107.599565678\n",
      "Cost at iteration 0 is 112.579784488\n",
      "Cost at iteration 0 is 106.109129561\n",
      "Cost at iteration 0 is 115.43109092\n",
      "Cost at iteration 0 is 105.415523356\n",
      "Cost at iteration 0 is 116.868506226\n",
      "Cost at iteration 0 is 106.155329413\n",
      "Cost at iteration 0 is 111.693485637\n",
      "Cost at iteration 0 is 103.727501942\n",
      "Cost at iteration 0 is 107.32616426\n",
      "Cost at iteration 0 is 102.926258967\n",
      "Cost at iteration 0 is 105.08029316\n",
      "Cost at iteration 0 is 102.877663745\n",
      "Cost at iteration 0 is 110.386640395\n",
      "Cost at iteration 0 is 104.094032649\n",
      "Cost at iteration 0 is 109.85293569\n",
      "Cost at iteration 0 is 103.744600697\n",
      "Cost at iteration 0 is 105.331157361\n",
      "Cost at iteration 0 is 105.753126376\n",
      "Cost at iteration 0 is 104.406493904\n",
      "Cost at iteration 0 is 104.101865686\n",
      "Cost at iteration 0 is 106.188065539\n",
      "Cost at iteration 0 is 101.115482692\n",
      "Cost at iteration 0 is 106.29486655\n",
      "Cost at iteration 0 is 99.7411995771\n",
      "Cost at iteration 0 is 98.1490481277\n",
      "Cost at iteration 0 is 102.972549475\n",
      "Cost at iteration 0 is 123.842847145\n",
      "Cost at iteration 0 is 111.421322938\n",
      "Cost at iteration 0 is 112.398156251\n",
      "Cost at iteration 0 is 105.065247616\n",
      "Cost at iteration 0 is 106.313419201\n",
      "Cost at iteration 0 is 100.168177957\n",
      "Cost at iteration 0 is 105.614194236\n",
      "Cost at iteration 0 is 98.4206249577\n",
      "Cost at iteration 0 is 102.427066982\n",
      "Cost at iteration 0 is 97.7500132933\n",
      "Cost at iteration 0 is 103.692803608\n",
      "Cost at iteration 0 is 101.620479739\n",
      "Cost at iteration 0 is 101.698824919\n",
      "Cost at iteration 0 is 99.4134280104\n",
      "Cost at iteration 0 is 106.19677319\n",
      "Cost at iteration 0 is 99.3270040057\n",
      "Cost at iteration 0 is 104.662859628\n",
      "Cost at iteration 0 is 100.342095433\n",
      "Cost at iteration 0 is 101.165764523\n",
      "Cost at iteration 0 is 95.5984060986\n",
      "Cost at iteration 0 is 115.030455374\n",
      "Cost at iteration 0 is 96.5797569843\n",
      "Cost at iteration 0 is 96.3916379218\n",
      "Cost at iteration 0 is 95.9000798061\n",
      "Cost at iteration 0 is 97.2258696883\n",
      "Cost at iteration 0 is 97.2765804008\n",
      "Cost at iteration 0 is 137.46330689\n",
      "Cost at iteration 0 is 106.680512053\n",
      "Cost at iteration 0 is 100.582898494\n",
      "Cost at iteration 0 is 99.8886110876\n",
      "Cost at iteration 0 is 98.9836584718\n",
      "Cost at iteration 0 is 98.6338454161\n",
      "Cost at iteration 0 is 96.3309352873\n",
      "Cost at iteration 0 is 99.0378662168\n",
      "Cost at iteration 0 is 102.161690369\n",
      "Cost at iteration 0 is 100.627284765\n",
      "Cost at iteration 0 is 116.792208448\n",
      "Cost at iteration 0 is 112.624613192\n",
      "Cost at iteration 0 is 115.895512431\n",
      "Cost at iteration 0 is 102.259364139\n",
      "Cost at iteration 0 is 99.4565410537\n",
      "Cost at iteration 0 is 96.6182478282\n",
      "Cost at iteration 0 is 99.1059030818\n",
      "Cost at iteration 0 is 96.1872171124\n",
      "Cost at iteration 0 is 103.784068069\n",
      "Cost at iteration 0 is 97.4446491674\n",
      "Cost at iteration 0 is 97.4903555309\n",
      "Cost at iteration 0 is 96.3277203965\n",
      "Cost at iteration 0 is 117.920181308\n",
      "Cost at iteration 0 is 97.6745964189\n",
      "Cost at iteration 0 is 95.3403874943\n",
      "Cost at iteration 0 is 98.8156379606\n",
      "Cost at iteration 0 is 96.3964029385\n",
      "Cost at iteration 0 is 95.8071511359\n"
     ]
    },
    {
     "data": {
      "image/png": "[encoded data removed]",
      "text/plain": [
       "<matplotlib.figure.Figure at 0x13f8e0b8>"
      ]
     },
     "metadata": {},
     "output_type": "display_data"
    }
   ],
   "source": [
    "ann = ANN(hidden_layer_sizes=[10])\n",
    "ann.fit(X=X_train,y=y_train)"
   ]
  },
  {
   "cell_type": "code",
   "execution_count": 127,
   "metadata": {
    "collapsed": false,
    "scrolled": true
   },
   "outputs": [
    {
     "name": "stdout",
     "output_type": "stream",
     "text": [
      "[array([6, 2, 7, ..., 3, 1, 6], dtype=int64)]\n",
      "0.930375180375\n"
     ]
    }
   ],
   "source": [
    "print ann.score(X_test,y_testO)"
   ]
  },
  {
   "cell_type": "code",
   "execution_count": null,
   "metadata": {
    "collapsed": false
   },
   "outputs": [],
   "source": []
  },
  {
   "cell_type": "code",
   "execution_count": null,
   "metadata": {
    "collapsed": true
   },
   "outputs": [],
   "source": []
  },
  {
   "cell_type": "code",
   "execution_count": null,
   "metadata": {
    "collapsed": false
   },
   "outputs": [],
   "source": []
  },
  {
   "cell_type": "code",
   "execution_count": null,
   "metadata": {
    "collapsed": true
   },
   "outputs": [],
   "source": []
  },
  {
   "cell_type": "code",
   "execution_count": null,
   "metadata": {
    "collapsed": false
   },
   "outputs": [],
   "source": []
  },
  {
   "cell_type": "code",
   "execution_count": null,
   "metadata": {
    "collapsed": false
   },
   "outputs": [],
   "source": []
  },
  {
   "cell_type": "code",
   "execution_count": null,
   "metadata": {
    "collapsed": false
   },
   "outputs": [],
   "source": []
  },
  {
   "cell_type": "code",
   "execution_count": null,
   "metadata": {
    "collapsed": true
   },
   "outputs": [],
   "source": []
  }
 ],
 "metadata": {
  "kernelspec": {
   "display_name": "Python 2",
   "language": "python",
   "name": "python2"
  },
  "language_info": {
   "codemirror_mode": {
    "name": "ipython",
    "version": 2
   },
   "file_extension": ".py",
   "mimetype": "text/x-python",
   "name": "python",
   "nbconvert_exporter": "python",
   "pygments_lexer": "ipython2",
   "version": "2.7.13"
  }
 },
 "nbformat": 4,
 "nbformat_minor": 2
}
